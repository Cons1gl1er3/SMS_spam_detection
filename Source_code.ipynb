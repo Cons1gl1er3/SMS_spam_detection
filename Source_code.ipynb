{
  "cells": [
    {
      "cell_type": "markdown",
      "metadata": {
        "colab_type": "text",
        "id": "view-in-github"
      },
      "source": [
        "<a href=\"https://colab.research.google.com/github/Cons1gl1er3/SMS_spam_detection/blob/main/Source_code.ipynb\" target=\"_parent\"><img src=\"https://colab.research.google.com/assets/colab-badge.svg\" alt=\"Open In Colab\"/></a>"
      ]
    },
    {
      "cell_type": "markdown",
      "metadata": {
        "id": "jJAk9EOxnavi"
      },
      "source": [
        "# **SETTING UP**"
      ]
    },
    {
      "cell_type": "markdown",
      "metadata": {
        "id": "nAYsJl0ErXJz"
      },
      "source": [
        "## **Data retrieving and libraries installing**"
      ]
    },
    {
      "cell_type": "code",
      "execution_count": 1,
      "metadata": {
        "id": "b8Z5DtPwqh4Q"
      },
      "outputs": [],
      "source": [
        "# Uncomment this if you have any uninstalled libraries\n",
        "#!pip install numpy\n",
        "#!pip install matplotlib\n",
        "#!pip install pandas\n",
        "#!pip install sklearn\n",
        "#!pip install nltk\n",
        "#!pip install hyperopt"
      ]
    },
    {
      "cell_type": "markdown",
      "metadata": {
        "id": "khzkG7PprkDX"
      },
      "source": [
        "## **Import libraries and data preprocessing**"
      ]
    },
    {
      "cell_type": "code",
      "execution_count": 2,
      "metadata": {
        "colab": {
          "base_uri": "https://localhost:8080/"
        },
        "id": "duUt4NhlvP0q",
        "outputId": "75241cc7-ca9c-4323-a931-a885bcdf8761"
      },
      "outputs": [
        {
          "name": "stderr",
          "output_type": "stream",
          "text": [
            "[nltk_data] Downloading package stopwords to\n",
            "[nltk_data]     C:\\Users\\vanht\\AppData\\Roaming\\nltk_data...\n",
            "[nltk_data]   Package stopwords is already up-to-date!\n",
            "[nltk_data] Downloading package punkt to\n",
            "[nltk_data]     C:\\Users\\vanht\\AppData\\Roaming\\nltk_data...\n",
            "[nltk_data]   Package punkt is already up-to-date!\n"
          ]
        }
      ],
      "source": [
        "# Basic importation\n",
        "import numpy as np\n",
        "import matplotlib.pyplot as plt\n",
        "import pandas as pd\n",
        "pd.set_option('display.width', 180)\n",
        "\n",
        "# Validation\n",
        "from sklearn.metrics import accuracy_score, precision_score, recall_score, f1_score\n",
        "from sklearn.model_selection import KFold, cross_val_score\n",
        "\n",
        "# Pipeline\n",
        "from sklearn.pipeline import Pipeline\n",
        "\n",
        "# Random Forest\n",
        "from sklearn.ensemble import RandomForestClassifier\n",
        "from sklearn.svm import SVC\n",
        "from sklearn.naive_bayes import MultinomialNB\n",
        "\n",
        "# Preprocessing\n",
        "import nltk\n",
        "nltk.download('stopwords')\n",
        "nltk.download('punkt')\n",
        "from nltk.corpus import stopwords\n",
        "from nltk import PorterStemmer\n",
        "from nltk import tokenize\n",
        "import string\n",
        "\n",
        "# Data Transformation\n",
        "from sklearn.feature_extraction.text import CountVectorizer, TfidfVectorizer\n",
        "\n",
        "# Train - Test Split\n",
        "from sklearn.model_selection import train_test_split\n",
        "\n",
        "# Hyperparameter\n",
        "from hyperopt import tpe, hp, fmin, STATUS_OK, Trials\n",
        "\n",
        "# Data visualization\n",
        "from sklearn.metrics import ConfusionMatrixDisplay, confusion_matrix\n",
        "\n",
        "# Save the data\n",
        "import pickle"
      ]
    },
    {
      "cell_type": "code",
      "execution_count": 3,
      "metadata": {
        "id": "D6eCfxs8wq_x"
      },
      "outputs": [],
      "source": [
        "# Read in the input\n",
        "data1 = pd.read_csv('spam1.csv', encoding=\"ISO-8859-1\")\n",
        "data2 = pd.read_csv('spam2.csv', encoding=\"ISO-8859-1\")"
      ]
    },
    {
      "cell_type": "code",
      "execution_count": 4,
      "metadata": {
        "colab": {
          "base_uri": "https://localhost:8080/"
        },
        "id": "hDSLsT7EvxZQ",
        "outputId": "369be44f-1872-4c5c-bf6e-c67c965b13cb"
      },
      "outputs": [
        {
          "name": "stdout",
          "output_type": "stream",
          "text": [
            "                                                text  label_enc\n",
            "0  Go until jurong point, crazy.. Available only ...          0\n",
            "1                      Ok lar... Joking wif u oni...          0\n",
            "2  Free entry in 2 a wkly comp to win FA Cup fina...          1\n",
            "3  U dun say so early hor... U c already then say...          0\n",
            "4  Nah I don't think he goes to usf, he lives aro...          0\n"
          ]
        }
      ],
      "source": [
        "# Drop null columns\n",
        "data1.drop(['Unnamed: 2', 'Unnamed: 3', 'Unnamed: 4'], axis = 1, inplace = True)\n",
        "data1.columns = ['labels', 'text']\n",
        "data2 = data2[data2['labels'] == 'spam']\n",
        "data = pd.concat([data1, data2])\n",
        "data['label_enc'] = data['labels'].map({'ham':0,'spam':1})\n",
        "data.drop(['labels'], axis = 1, inplace = True)\n",
        "print(data.head())"
      ]
    },
    {
      "cell_type": "markdown",
      "metadata": {
        "id": "pD6Tzvwtngob"
      },
      "source": [
        "# **DATA ANALYZING AND FEATURE EXTRACTION**"
      ]
    },
    {
      "cell_type": "markdown",
      "metadata": {
        "id": "anNAtcnwGSrc"
      },
      "source": [
        "### **Feature extraction**"
      ]
    },
    {
      "cell_type": "code",
      "execution_count": 5,
      "metadata": {
        "id": "l9QCgxU_5nHr"
      },
      "outputs": [],
      "source": [
        "# Preprocess\n",
        "SW = stopwords.words(\"english\") + ['u', 'ü', 'ur', '4', '2', 'im', 'dont', 'doin', 'ure']\n",
        "\n",
        "def preprocess_text(text):\n",
        "\n",
        "    \"\"\"\n",
        "    String text in input, remove its punctuation and stopwords.\n",
        "    Return the cleaned text\n",
        "    \"\"\"\n",
        "    text = text.strip()\n",
        "    text = text.lower()\n",
        "\n",
        "    words = tokenize.word_tokenize(text)\n",
        "\n",
        "    ps = PorterStemmer()\n",
        "\n",
        "    filter_words = [ps.stem(word) for word in words if word not in SW and word.isalnum()]\n",
        "\n",
        "    transformed_text = \" \".join(filter_words)\n",
        "\n",
        "    return transformed_text\n",
        "\n",
        "data[\"cleaned text\"] = data[\"text\"].apply(preprocess_text)\n",
        "\n",
        "# Count Vectorizer\n",
        "Vect = CountVectorizer()\n",
        "\n",
        "X_vect = Vect.fit_transform(data[\"cleaned text\"]).toarray()\n",
        "y_vect = data['label_enc']\n",
        "\n",
        "# TF-IDF\n",
        "Tfidf = TfidfVectorizer()\n",
        "X_tfidf = Tfidf.fit_transform(data[\"cleaned text\"]).toarray()\n",
        "y_tfidf = data['label_enc']\n",
        "\n",
        "# Train, test data\n",
        "X, y = data['cleaned text'], data['label_enc']\n"
      ]
    },
    {
      "cell_type": "markdown",
      "metadata": {
        "id": "n08v4XudXo3R"
      },
      "source": [
        "# **Evaluation**"
      ]
    },
    {
      "cell_type": "code",
      "execution_count": 6,
      "metadata": {
        "id": "pngha1-CaDsy"
      },
      "outputs": [],
      "source": [
        "# Final algorithms\n",
        "Random_Forest_vect = RandomForestClassifier(n_estimators = 180, max_depth = 15, criterion = 'gini', random_state = 1)\n",
        "SVM_vect = SVC(C = 1, gamma = 100, kernel = 'linear', random_state = 1)\n",
        "Naive_Bayes_vect = MultinomialNB(alpha = 3.067289646139944)\n",
        "Random_Forest_tfidf = RandomForestClassifier(criterion='gini', max_depth = 15, n_estimators = 273, random_state = 1)\n",
        "SVM_tfidf = SVC(C = 10, gamma = 1000, kernel = 'linear', random_state = 1)\n",
        "Naive_Bayes_tfidf = MultinomialNB(alpha = 1.0011554126786382)"
      ]
    },
    {
      "cell_type": "markdown",
      "metadata": {
        "id": "lKDn7fN7H3DT"
      },
      "source": [
        "### **Function to train and evaluate the algorithm**"
      ]
    },
    {
      "cell_type": "code",
      "execution_count": 7,
      "metadata": {
        "id": "FiJ_FMMwH2V9"
      },
      "outputs": [],
      "source": [
        "def train_and_evaluate_model(vectorizer, model):\n",
        "    # Splitting the data\n",
        "    X_train, X_test, y_train, y_test = train_test_split(X, y, train_size = 0.8, test_size = 0.2, random_state = 1)\n",
        "\n",
        "    # Feature extraction\n",
        "    X_train_extracted = vectorizer.fit_transform(X_train)\n",
        "    X_test_extracted = vectorizer.transform(X_test)\n",
        "\n",
        "    # Train the model\n",
        "    model.fit(X_train_extracted, y_train)\n",
        "\n",
        "    # Make predictions on the test set\n",
        "    y_pred = model.predict(X_test_extracted)\n",
        "\n",
        "    # Evaluate the model performance\n",
        "    accuracy = accuracy_score(y_test, y_pred)\n",
        "    precision = precision_score(y_test, y_pred)\n",
        "    recall = recall_score(y_test, y_pred)\n",
        "    f1 = f1_score(y_test, y_pred)\n",
        "    conf_matrix = confusion_matrix(y_test, y_pred)\n",
        "\n",
        "    model_results_dict = {\n",
        "                          'f1-score': f1,\n",
        "                          'recall': recall,\n",
        "                          'precision': precision,\n",
        "                          'accuracy': accuracy}\n",
        "\n",
        "    return model_results_dict"
      ]
    },
    {
      "cell_type": "code",
      "execution_count": 8,
      "metadata": {
        "colab": {
          "base_uri": "https://localhost:8080/"
        },
        "id": "Mmz2P_zQX9F1",
        "outputId": "bdaedac2-ca3b-475b-df66-6ba62811bdcc"
      },
      "outputs": [
        {
          "name": "stdout",
          "output_type": "stream",
          "text": [
            "                                              f1-score    recall  precision  accuracy\n",
            "Support Vector Machine with Count Vectorizer  0.979742  0.963768   0.996255  0.991297\n",
            "Support Vector Machine with TFIDF             0.972376  0.956522   0.988764  0.988133\n",
            "Naive Bayes with TFIDF                        0.951526  0.960145   0.943060  0.978639\n",
            "Naive Bayes with Count Vectorizer             0.949275  0.949275   0.949275  0.977848\n",
            "Random Forest with TFIDF                      0.794760  0.659420   1.000000  0.925633\n",
            "Random Forest with Count Vectorizer           0.786813  0.648551   1.000000  0.923259\n"
          ]
        }
      ],
      "source": [
        "Random_Forest_vect_results = train_and_evaluate_model(CountVectorizer(), Random_Forest_vect)\n",
        "SVM_vect_results = train_and_evaluate_model(CountVectorizer(), SVM_vect)\n",
        "Naive_Bayes_vect_results = train_and_evaluate_model(CountVectorizer(), Naive_Bayes_vect)\n",
        "Random_Forest_tfidf_results = train_and_evaluate_model(CountVectorizer(), Random_Forest_tfidf)\n",
        "SVM_tfidf_results = train_and_evaluate_model(CountVectorizer(), SVM_tfidf)\n",
        "Naive_Bayes_tfidf_results = train_and_evaluate_model(CountVectorizer(), Naive_Bayes_tfidf)\n",
        "\n",
        "total_results = pd.DataFrame({\n",
        "                              'Random Forest with Count Vectorizer': Random_Forest_vect_results,\n",
        "                              'Support Vector Machine with Count Vectorizer': SVM_vect_results,\n",
        "                              'Naive Bayes with Count Vectorizer': Naive_Bayes_vect_results,\n",
        "                             'Random Forest with TFIDF': Random_Forest_tfidf_results,\n",
        "                             'Support Vector Machine with TFIDF': SVM_tfidf_results,\n",
        "                             'Naive Bayes with TFIDF': Naive_Bayes_tfidf_results}\n",
        "                             ).transpose().sort_values(['f1-score', 'recall'], ascending=False)\n",
        "\n",
        "print(total_results)"
      ]
    },
    {
      "cell_type": "code",
      "execution_count": 9,
      "metadata": {
        "colab": {
          "base_uri": "https://localhost:8080/",
          "height": 445
        },
        "id": "CaEZWm9yy1CZ",
        "outputId": "674efeee-e7b6-4df0-a5c6-bf6d23abbf41"
      },
      "outputs": [
        {
          "data": {
            "image/png": "[encoded data removed]",
            "text/plain": [
              "<Figure size 1200x500 with 1 Axes>"
            ]
          },
          "metadata": {},
          "output_type": "display_data"
        }
      ],
      "source": [
        "# Plotting the result\n",
        "Name = ['RF_vect', 'SVM_vect', 'NB_vect', 'RF_tfidf', 'SVM_tfidf', 'NB_tfidf']\n",
        "f, ax = plt.subplots(1, figsize=(12,5))\n",
        "plt.plot(Name, total_results)\n",
        "plt.legend([\"f1-score\", \"recall\", \"precision\", 'accuracy'], loc =\"lower left\")\n",
        "plt.show()"
      ]
    },
    {
      "cell_type": "code",
      "execution_count": 10,
      "metadata": {},
      "outputs": [
        {
          "data": {
            "text/plain": [
              "array([0], dtype=int64)"
            ]
          },
          "execution_count": 10,
          "metadata": {},
          "output_type": "execute_result"
        }
      ],
      "source": [
        "X = Vect.fit_transform(X)\n",
        "SVM_vect.fit(X, y)\n",
        "mes = pd.Series([input()])\n",
        "mes = mes.apply(preprocess_text)\n",
        "mes = Vect.transform(mes).toarray()\n",
        "SVM_vect.predict(mes)"
      ]
    }
  ],
  "metadata": {
    "colab": {
      "collapsed_sections": [
        "nAYsJl0ErXJz"
      ],
      "include_colab_link": true,
      "provenance": []
    },
    "kernelspec": {
      "display_name": "Python 3",
      "name": "python3"
    },
    "language_info": {
      "codemirror_mode": {
        "name": "ipython",
        "version": 3
      },
      "file_extension": ".py",
      "mimetype": "text/x-python",
      "name": "python",
      "nbconvert_exporter": "python",
      "pygments_lexer": "ipython3",
      "version": "3.11.6"
    }
  },
  "nbformat": 4,
  "nbformat_minor": 0
}
