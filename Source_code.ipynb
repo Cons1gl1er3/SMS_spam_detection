{
  "cells": [
    {
      "cell_type": "markdown",
      "metadata": {
        "id": "view-in-github",
        "colab_type": "text"
      },
      "source": [
        "<a href=\"https://colab.research.google.com/github/Cons1gl1er3/SMS_spam_detection/blob/main/Source_code.ipynb\" target=\"_parent\"><img src=\"https://colab.research.google.com/assets/colab-badge.svg\" alt=\"Open In Colab\"/></a>"
      ]
    },
    {
      "cell_type": "markdown",
      "metadata": {
        "id": "jJAk9EOxnavi"
      },
      "source": [
        "# **SETTING UP**"
      ]
    },
    {
      "cell_type": "markdown",
      "source": [
        "## **Data retrieving and libraries installing**"
      ],
      "metadata": {
        "id": "nAYsJl0ErXJz"
      }
    },
    {
      "cell_type": "code",
      "source": [
        "# Clone the directory to get the data\n",
        "!git init\n",
        "!git remote add origin https://github.com/Cons1gl1er3/SMS_spam_detection.git\n",
        "!git pull\n",
        "!git checkout main -f\n",
        "!git branch --set-upstream-to origin/main"
      ],
      "metadata": {
        "id": "D8JY2dELpY0v"
      },
      "execution_count": null,
      "outputs": []
    },
    {
      "cell_type": "code",
      "source": [
        "# Uncomment this if you have any uninstalled libraries\n",
        "#!pip install numpy\n",
        "#!pip install matplotlib\n",
        "#!pip install pandas\n",
        "#!pip install sklearn\n",
        "#!pip install nltk\n",
        "#!pip install hyperopt"
      ],
      "metadata": {
        "id": "b8Z5DtPwqh4Q"
      },
      "execution_count": null,
      "outputs": []
    },
    {
      "cell_type": "markdown",
      "source": [
        "## **Import libraries and data preprocessing**"
      ],
      "metadata": {
        "id": "khzkG7PprkDX"
      }
    },
    {
      "cell_type": "code",
      "execution_count": null,
      "metadata": {
        "colab": {
          "base_uri": "https://localhost:8080/"
        },
        "id": "duUt4NhlvP0q",
        "outputId": "75241cc7-ca9c-4323-a931-a885bcdf8761"
      },
      "outputs": [
        {
          "output_type": "stream",
          "name": "stderr",
          "text": [
            "[nltk_data] Downloading package stopwords to /root/nltk_data...\n",
            "[nltk_data]   Package stopwords is already up-to-date!\n",
            "[nltk_data] Downloading package punkt to /root/nltk_data...\n",
            "[nltk_data]   Package punkt is already up-to-date!\n"
          ]
        }
      ],
      "source": [
        "# Basic importation\n",
        "import numpy as np\n",
        "import matplotlib.pyplot as plt\n",
        "import pandas as pd\n",
        "pd.set_option('display.width', 180)\n",
        "\n",
        "# Validation\n",
        "from sklearn.metrics import accuracy_score, precision_score, recall_score, f1_score\n",
        "from sklearn.model_selection import KFold, cross_val_score\n",
        "\n",
        "# Pipeline\n",
        "from sklearn.pipeline import Pipeline\n",
        "\n",
        "# Random Forest\n",
        "from sklearn.ensemble import RandomForestClassifier\n",
        "from sklearn.svm import SVC\n",
        "from sklearn.naive_bayes import MultinomialNB\n",
        "\n",
        "# Preprocessing\n",
        "import nltk\n",
        "nltk.download('stopwords')\n",
        "nltk.download('punkt')\n",
        "from nltk.corpus import stopwords\n",
        "from nltk import PorterStemmer\n",
        "from nltk import tokenize\n",
        "import string\n",
        "\n",
        "# Data Transformation\n",
        "from sklearn.feature_extraction.text import CountVectorizer, TfidfVectorizer\n",
        "\n",
        "# Train - Test Split\n",
        "from sklearn.model_selection import train_test_split\n",
        "\n",
        "# Hyperparameter\n",
        "from hyperopt import tpe, hp, fmin, STATUS_OK, Trials\n",
        "\n",
        "# Data visualization\n",
        "from sklearn.metrics import ConfusionMatrixDisplay, confusion_matrix"
      ]
    },
    {
      "cell_type": "code",
      "execution_count": null,
      "metadata": {
        "id": "D6eCfxs8wq_x"
      },
      "outputs": [],
      "source": [
        "# Read in the input\n",
        "sample_dir = '/content/spam.csv'\n",
        "data = pd.read_csv(sample_dir, encoding=\"ISO-8859-1\")"
      ]
    },
    {
      "cell_type": "code",
      "execution_count": null,
      "metadata": {
        "colab": {
          "base_uri": "https://localhost:8080/"
        },
        "id": "hDSLsT7EvxZQ",
        "outputId": "369be44f-1872-4c5c-bf6e-c67c965b13cb"
      },
      "outputs": [
        {
          "output_type": "stream",
          "name": "stdout",
          "text": [
            "                                                text  label_enc\n",
            "0  Go until jurong point, crazy.. Available only ...          0\n",
            "1                      Ok lar... Joking wif u oni...          0\n",
            "2  Free entry in 2 a wkly comp to win FA Cup fina...          1\n",
            "3  U dun say so early hor... U c already then say...          0\n",
            "4  Nah I don't think he goes to usf, he lives aro...          0\n"
          ]
        }
      ],
      "source": [
        "# Drop null columns\n",
        "data.drop(['Unnamed: 2', 'Unnamed: 3', 'Unnamed: 4'], axis = 1, inplace = True)\n",
        "data.columns = [\"label\", \"text\"]\n",
        "data['label_enc'] = data['label'].map({'ham':0,'spam':1})\n",
        "data.drop(['label'], axis = 1, inplace = True)\n",
        "print(data.head())"
      ]
    },
    {
      "cell_type": "markdown",
      "metadata": {
        "id": "pD6Tzvwtngob"
      },
      "source": [
        "# **DATA ANALYZING AND FEATURE EXTRACTION**"
      ]
    },
    {
      "cell_type": "markdown",
      "metadata": {
        "id": "anNAtcnwGSrc"
      },
      "source": [
        "### **Feature extraction**"
      ]
    },
    {
      "cell_type": "code",
      "execution_count": null,
      "metadata": {
        "id": "l9QCgxU_5nHr"
      },
      "outputs": [],
      "source": [
        "# Preprocess\n",
        "SW = stopwords.words(\"english\") + ['u', 'ü', 'ur', '4', '2', 'im', 'dont', 'doin', 'ure']\n",
        "\n",
        "def preprocess_text(text):\n",
        "\n",
        "    \"\"\"\n",
        "    String text in input, remove its punctuation and stopwords.\n",
        "    Return the cleaned text\n",
        "    \"\"\"\n",
        "    text = text.strip()\n",
        "    text = text.lower()\n",
        "\n",
        "    words = tokenize.word_tokenize(text)\n",
        "\n",
        "    ps = PorterStemmer()\n",
        "\n",
        "    filter_words = [ps.stem(word) for word in words if word not in SW and word.isalnum()]\n",
        "\n",
        "    transformed_text = \" \".join(filter_words)\n",
        "\n",
        "    return transformed_text\n",
        "\n",
        "data[\"cleaned text\"] = data[\"text\"].apply(preprocess_text)\n",
        "\n",
        "# Count Vectorizer\n",
        "Vect = CountVectorizer()\n",
        "\n",
        "X_vect = Vect.fit_transform(data[\"cleaned text\"]).toarray()\n",
        "y_vect = data['label_enc']\n",
        "\n",
        "# TF-IDF\n",
        "Tfidf = TfidfVectorizer()\n",
        "X_tfidf = Tfidf.fit_transform(data[\"cleaned text\"]).toarray()\n",
        "y_tfidf = data['label_enc']\n",
        "\n",
        "# Train, test data\n",
        "X, y = data['cleaned text'], data['label_enc']\n"
      ]
    },
    {
      "cell_type": "markdown",
      "metadata": {
        "id": "7RfPMyCCtjxV"
      },
      "source": [
        "# **Hyperparameter Tuning**\n"
      ]
    },
    {
      "cell_type": "markdown",
      "metadata": {
        "id": "diS7JEoqMc4g"
      },
      "source": [
        "## **Using Count Vectorizer**"
      ]
    },
    {
      "cell_type": "markdown",
      "metadata": {
        "id": "mmN4E0tVnsZX"
      },
      "source": [
        "### **RANDOM FOREST**"
      ]
    },
    {
      "cell_type": "code",
      "execution_count": null,
      "metadata": {
        "colab": {
          "background_save": true,
          "base_uri": "https://localhost:8080/"
        },
        "id": "C0yVUxz5HM7B",
        "outputId": "ec20a9f3-0aea-454a-9a4a-4e44bfa88c78"
      },
      "outputs": [
        {
          "name": "stdout",
          "output_type": "stream",
          "text": [
            "100%|██████████| 100/100 [58:07<00:00, 34.87s/trial, best loss: -0.9212137411340381]\n",
            "Best: {'criterion': 0, 'max_depth': 15.0, 'n_estimators': 180.0}\n"
          ]
        }
      ],
      "source": [
        "# Uncomment the code below to run the hyperparameter function (time consuming)\n",
        "'''\n",
        "space1 = {\n",
        "    \"n_estimators\": hp.uniformint(\"n_estimators\", 50, 300),\n",
        "    \"criterion\": hp.choice(\"criterion\", [\"gini\", \"entropy\"]),\n",
        "    \"max_depth\": hp.uniformint(\"max_depth\", 1, 15)\n",
        "}\n",
        "\n",
        "def hyperparameter_tuning1_vect(params):\n",
        "    clf = RandomForestClassifier(**params, n_jobs=-1)\n",
        "    acc = cross_val_score(clf, X_vect, y_vect, scoring=\"accuracy\").mean()\n",
        "    return {\"loss\": -acc, \"status\": STATUS_OK}\n",
        "\n",
        "trials1_vect = Trials()\n",
        "\n",
        "best1_vect = fmin(\n",
        "    fn=hyperparameter_tuning1_vect,\n",
        "    space = space1,\n",
        "    algo=tpe.suggest,\n",
        "    max_evals=100,\n",
        "    trials=trials1_vect\n",
        ")\n",
        "\n",
        "print(\"Best: {}\".format(best1_vect))\n",
        "'''"
      ]
    },
    {
      "cell_type": "code",
      "source": [
        "Random_Forest_vect = RandomForestClassifier(n_estimators = 180, max_depth = 15, criterion = 'gini', random_state = 1)"
      ],
      "metadata": {
        "id": "rZur2GvHsmlZ"
      },
      "execution_count": null,
      "outputs": []
    },
    {
      "cell_type": "markdown",
      "metadata": {
        "id": "_Gwq-8AhtsRG"
      },
      "source": [
        "### **SUPPORT VECTOR MACHINE**"
      ]
    },
    {
      "cell_type": "code",
      "execution_count": null,
      "metadata": {
        "colab": {
          "base_uri": "https://localhost:8080/"
        },
        "id": "ElZnbxwzYyw2",
        "outputId": "f0c20ff2-f4f4-4eb3-fd49-727520d797ac"
      },
      "outputs": [
        {
          "name": "stdout",
          "output_type": "stream",
          "text": [
            "100%|██████████| 100/100 [3:06:59<00:00, 112.20s/trial, best loss: -0.97864315029836]\n",
            "Best: {'C': 1, 'gamma': 3, 'kernel': 1}\n"
          ]
        }
      ],
      "source": [
        "# Uncomment the code below to run the hyperparameter function (time consuming)\n",
        "'''\n",
        "space2 = {\n",
        "    \"gamma\": hp.choice(\"gamma\", [0.1, 1, 10, 100, 1000]),\n",
        "    \"kernel\": hp.choice(\"kernel\", [\"rbf\", \"linear\"]),\n",
        "    \"C\": hp.choice(\"C\", [0.1, 1, 10, 100, 1000]),\n",
        "}\n",
        "\n",
        "def hyperparameter_tuning2(params):\n",
        "    clf = SVC(**params)\n",
        "    acc = cross_val_score(clf, X, y, scoring=\"accuracy\", cv=3).mean()\n",
        "    return {\"loss\": -acc, \"status\": STATUS_OK}\n",
        "\n",
        "trials2 = Trials()\n",
        "\n",
        "best = fmin(\n",
        "    fn=hyperparameter_tuning2,\n",
        "    space = space2,\n",
        "    algo=tpe.suggest,\n",
        "    max_evals=100,\n",
        "    trials=trials2\n",
        ")\n",
        "\n",
        "print(\"Best: {}\".format(best))\n",
        "'''"
      ]
    },
    {
      "cell_type": "code",
      "execution_count": null,
      "metadata": {
        "id": "LE95-A09ohkz"
      },
      "outputs": [],
      "source": [
        "SVM_vect = SVC(C = 1, gamma = 100, kernel = 'linear', random_state = 1)"
      ]
    },
    {
      "cell_type": "markdown",
      "metadata": {
        "id": "qvVR330hMQ_V"
      },
      "source": [
        "### **Naive Bayes**"
      ]
    },
    {
      "cell_type": "code",
      "source": [
        "# Uncomment the code below to run the hyperparameter function (time consuming)\n",
        "'''\n",
        "space3 = {\n",
        "    \"alpha\": hp.uniform(\"alpha\", 1, 10)\n",
        "}\n",
        "\n",
        "def hyperparameter_tuning3_vect(params):\n",
        "    clf = MultinomialNB(**params)\n",
        "    acc = cross_val_score(clf, X_vect, y_vect, scoring=\"accuracy\", cv=5).mean()\n",
        "    return {\"loss\": -acc, \"status\": STATUS_OK}\n",
        "\n",
        "trials3_vect = Trials()\n",
        "\n",
        "best3_vect = fmin(\n",
        "    fn=hyperparameter_tuning3_vect,\n",
        "    space = space3,\n",
        "    algo=tpe.suggest,\n",
        "    max_evals=100,\n",
        "    trials=trials3_vect\n",
        ")\n",
        "\n",
        "print(\"Best: {}\".format(best3_vect))\n",
        "'''"
      ],
      "metadata": {
        "colab": {
          "base_uri": "https://localhost:8080/"
        },
        "id": "AcAEGafptAch",
        "outputId": "58af6473-75a9-464b-f5d0-d74d25306dc2"
      },
      "execution_count": null,
      "outputs": [
        {
          "output_type": "stream",
          "name": "stdout",
          "text": [
            "100%|██████████| 100/100 [01:54<00:00,  1.14s/trial, best loss: -0.9793606041332893]\n",
            "Best: {'alpha': 3.067289646139944}\n"
          ]
        }
      ]
    },
    {
      "cell_type": "code",
      "execution_count": null,
      "metadata": {
        "id": "2UY8pNIYVnjh"
      },
      "outputs": [],
      "source": [
        "Naive_Bayes_vect = MultinomialNB(alpha = 3.067289646139944)"
      ]
    },
    {
      "cell_type": "markdown",
      "metadata": {
        "id": "uANs8UUNMjZ2"
      },
      "source": [
        "## **Using TF-IDF**"
      ]
    },
    {
      "cell_type": "markdown",
      "metadata": {
        "id": "xfJBIqOSMyVo"
      },
      "source": [
        "### **RANDOM FOREST**"
      ]
    },
    {
      "cell_type": "code",
      "execution_count": null,
      "metadata": {
        "colab": {
          "background_save": true,
          "base_uri": "https://localhost:8080/"
        },
        "id": "6LCcOMsHM6Za",
        "outputId": "139ec344-5b79-435c-c2fb-c2743269aac0"
      },
      "outputs": [
        {
          "name": "stdout",
          "output_type": "stream",
          "text": [
            "100%|██████████| 100/100 [45:16<00:00, 27.16s/trial, best loss: -0.9224695075315392]\n",
            "Best: {'criterion': 0, 'max_depth': 15.0, 'n_estimators': 273.0}\n"
          ]
        }
      ],
      "source": [
        "# Uncomment the code below to run the hyperparameter function (time consuming)\n",
        "'''\n",
        "space1 = {\n",
        "    \"n_estimators\": hp.uniformint(\"n_estimators\", 50, 300),\n",
        "    \"criterion\": hp.choice(\"criterion\", [\"gini\", \"entropy\"]),\n",
        "    \"max_depth\": hp.uniformint(\"max_depth\", 1, 15)\n",
        "}\n",
        "\n",
        "def hyperparameter_tuning1_tfidf(params):\n",
        "    clf = RandomForestClassifier(**params, n_jobs=-1)\n",
        "    acc = cross_val_score(clf, X_tfidf, y_tfidf, scoring=\"accuracy\").mean()\n",
        "    return {\"loss\": -acc, \"status\": STATUS_OK}\n",
        "\n",
        "trials1_tfidf = Trials()\n",
        "\n",
        "best1_tfidf = fmin(\n",
        "    fn=hyperparameter_tuning1_tfidf,\n",
        "    space = space1,\n",
        "    algo=tpe.suggest,\n",
        "    max_evals=100,\n",
        "    trials=trials1_tfidf\n",
        ")\n",
        "\n",
        "print(\"Best: {}\".format(best1_tfidf))\n",
        "'''"
      ]
    },
    {
      "cell_type": "code",
      "source": [
        "Random_Forest_tfidf = RandomForestClassifier(criterion='gini', max_depth = 15, n_estimators = 273, random_state = 1)"
      ],
      "metadata": {
        "id": "NKprlsroaUzO"
      },
      "execution_count": null,
      "outputs": []
    },
    {
      "cell_type": "markdown",
      "source": [
        "### **Support Vector Machine**"
      ],
      "metadata": {
        "id": "poKG1X5cwio9"
      }
    },
    {
      "cell_type": "code",
      "execution_count": null,
      "metadata": {
        "colab": {
          "base_uri": "https://localhost:8080/"
        },
        "id": "hYjvtRvBi685",
        "outputId": "c9de493b-0b1a-478c-9d22-dae9ee25b7a4"
      },
      "outputs": [
        {
          "output_type": "stream",
          "name": "stdout",
          "text": [
            "100%|██████████| 50/50 [2:11:49<00:00, 158.18s/trial, best loss: -0.9759513117580488]\n",
            "Best: {'C': 2, 'gamma': 1, 'kernel': 1}\n"
          ]
        }
      ],
      "source": [
        "# Uncomment the code below to run the hyperparameter function (time consuming)\n",
        "'''\n",
        "space2 = {\n",
        "    \"gamma\": hp.choice(\"gamma\", [100, 1000]),\n",
        "    \"kernel\": hp.choice(\"kernel\", [\"rbf\", \"linear\"]),\n",
        "    \"C\": hp.choice(\"C\", [0.1, 1, 10]),\n",
        "}\n",
        "\n",
        "def hyperparameter_tuning2_tfidf(params):\n",
        "    clf = SVC(**params)\n",
        "    acc = cross_val_score(clf, X_tfidf, y_tfidf, scoring=\"accuracy\", cv=3).mean()\n",
        "    return {\"loss\": -acc, \"status\": STATUS_OK}\n",
        "\n",
        "trials2_tfidf = Trials()\n",
        "\n",
        "best2_tfidf = fmin(\n",
        "    fn=hyperparameter_tuning2_tfidf,\n",
        "    space = space2,\n",
        "    algo=tpe.suggest,\n",
        "    max_evals=50,\n",
        "    trials=trials2_tfidf\n",
        ")\n",
        "\n",
        "print(\"Best: {}\".format(best2_tfidf))\n",
        "'''"
      ]
    },
    {
      "cell_type": "code",
      "source": [
        "SVM_tfidf = SVC(C = 10, gamma = 1000, kernel = 'linear', random_state = 1)"
      ],
      "metadata": {
        "id": "9dZ0WLKYXQ1D"
      },
      "execution_count": null,
      "outputs": []
    },
    {
      "cell_type": "markdown",
      "source": [
        "### **Naive Bayes**"
      ],
      "metadata": {
        "id": "FeYCCncrywWj"
      }
    },
    {
      "cell_type": "code",
      "source": [
        "# Uncomment the code below to run the hyperparameter function (time consuming)\n",
        "'''\n",
        "space3 = {\n",
        "    \"alpha\": hp.uniform(\"alpha\", 1, 10)\n",
        "}\n",
        "\n",
        "def hyperparameter_tuning3_tfidf(params):\n",
        "    clf = MultinomialNB(**params)\n",
        "    acc = cross_val_score(clf, X_tfidf, y_tfidf, scoring=\"accuracy\", cv=5).mean()\n",
        "    return {\"loss\": -acc, \"status\": STATUS_OK}\n",
        "\n",
        "trials3_tfidf = Trials()\n",
        "\n",
        "best3_tfidf = fmin(\n",
        "    fn=hyperparameter_tuning3_tfidf,\n",
        "    space = space3,\n",
        "    algo=tpe.suggest,\n",
        "    max_evals=100,\n",
        "    trials=trials3_tfidf\n",
        ")\n",
        "\n",
        "print(\"Best: {}\".format(best3_tfidf))\n",
        "'''"
      ],
      "metadata": {
        "colab": {
          "base_uri": "https://localhost:8080/"
        },
        "id": "uPoMDgjDwpVU",
        "outputId": "6819aff1-a986-4848-9cf9-c56664b67a13"
      },
      "execution_count": null,
      "outputs": [
        {
          "output_type": "stream",
          "name": "stdout",
          "text": [
            "100%|██████████| 100/100 [02:50<00:00,  1.70s/trial, best loss: -0.9650021334664401]\n",
            "Best: {'alpha': 1.0011554126786382}\n"
          ]
        }
      ]
    },
    {
      "cell_type": "code",
      "source": [
        "Naive_Bayes_tfidf = MultinomialNB(alpha = 1.0011554126786382)"
      ],
      "metadata": {
        "id": "Krp-7MLgapaz"
      },
      "execution_count": null,
      "outputs": []
    },
    {
      "cell_type": "markdown",
      "source": [
        "# **Evaluation**"
      ],
      "metadata": {
        "id": "n08v4XudXo3R"
      }
    },
    {
      "cell_type": "code",
      "source": [
        "# Final algorithms\n",
        "Random_Forest_vect = RandomForestClassifier(n_estimators = 180, max_depth = 15, criterion = 'gini', random_state = 1)\n",
        "SVM_vect = SVC(C = 1, gamma = 100, kernel = 'linear', random_state = 1)\n",
        "Naive_Bayes_vect = MultinomialNB(alpha = 3.067289646139944)\n",
        "Random_Forest_tfidf = RandomForestClassifier(criterion='gini', max_depth = 15, n_estimators = 273, random_state = 1)\n",
        "SVM_tfidf = SVC(C = 10, gamma = 1000, kernel = 'linear', random_state = 1)\n",
        "Naive_Bayes_tfidf = MultinomialNB(alpha = 1.0011554126786382)"
      ],
      "metadata": {
        "id": "pngha1-CaDsy"
      },
      "execution_count": null,
      "outputs": []
    },
    {
      "cell_type": "markdown",
      "metadata": {
        "id": "lKDn7fN7H3DT"
      },
      "source": [
        "### **Function to train and evaluate the algorithm**"
      ]
    },
    {
      "cell_type": "code",
      "execution_count": null,
      "metadata": {
        "id": "FiJ_FMMwH2V9"
      },
      "outputs": [],
      "source": [
        "def train_and_evaluate_model(vectorizer, model):\n",
        "    # Splitting the data\n",
        "    X_train, X_test, y_train, y_test = train_test_split(X, y, train_size = 0.8, test_size = 0.2, random_state = 1)\n",
        "\n",
        "    # Feature extraction\n",
        "    X_train_extracted = vectorizer.fit_transform(X_train)\n",
        "    X_test_extracted = vectorizer.transform(X_test)\n",
        "\n",
        "    # Train the model\n",
        "    model.fit(X_train_extracted, y_train)\n",
        "\n",
        "    # Make predictions on the test set\n",
        "    y_pred = model.predict(X_test_extracted)\n",
        "\n",
        "    # Evaluate the model performance\n",
        "    accuracy = accuracy_score(y_test, y_pred)\n",
        "    precision = precision_score(y_test, y_pred)\n",
        "    recall = recall_score(y_test, y_pred)\n",
        "    f1 = f1_score(y_test, y_pred)\n",
        "    conf_matrix = confusion_matrix(y_test, y_pred)\n",
        "\n",
        "    model_results_dict = {\n",
        "                          'f1-score': f1,\n",
        "                          'recall': recall,\n",
        "                          'precision': precision,\n",
        "                          'accuracy': accuracy}\n",
        "\n",
        "    return model_results_dict"
      ]
    },
    {
      "cell_type": "code",
      "source": [
        "Random_Forest_vect_results = train_and_evaluate_model(CountVectorizer(), Random_Forest_vect)\n",
        "SVM_vect_results = train_and_evaluate_model(CountVectorizer(), SVM_vect)\n",
        "Naive_Bayes_vect_results = train_and_evaluate_model(CountVectorizer(), Naive_Bayes_vect)\n",
        "Random_Forest_tfidf_results = train_and_evaluate_model(CountVectorizer(), Random_Forest_tfidf)\n",
        "SVM_tfidf_results = train_and_evaluate_model(CountVectorizer(), SVM_tfidf)\n",
        "Naive_Bayes_tfidf_results = train_and_evaluate_model(CountVectorizer(), Naive_Bayes_tfidf)\n",
        "\n",
        "total_results = pd.DataFrame({\n",
        "                              'Random Forest with Count Vectorizer': Random_Forest_vect_results,\n",
        "                              'Support Vector Machine with Count Vectorizer': SVM_vect_results,\n",
        "                              'Naive Bayes with Count Vectorizer': Naive_Bayes_vect_results,\n",
        "                             'Random Forest with TFIDF': Random_Forest_tfidf_results,\n",
        "                             'Support Vector Machine with TFIDF': SVM_tfidf_results,\n",
        "                             'Naive Bayes with TFIDF': Naive_Bayes_tfidf_results}\n",
        "                             ).transpose().sort_values(['f1-score', 'recall'], ascending=False)\n",
        "\n",
        "print(total_results)"
      ],
      "metadata": {
        "colab": {
          "base_uri": "https://localhost:8080/"
        },
        "id": "Mmz2P_zQX9F1",
        "outputId": "bdaedac2-ca3b-475b-df66-6ba62811bdcc"
      },
      "execution_count": null,
      "outputs": [
        {
          "output_type": "stream",
          "name": "stdout",
          "text": [
            "                                              f1-score    recall  precision  accuracy\n",
            "Support Vector Machine with Count Vectorizer  0.947368  0.906475   0.992126  0.987444\n",
            "Naive Bayes with TFIDF                        0.941176  0.920863   0.962406  0.985650\n",
            "Naive Bayes with Count Vectorizer             0.940299  0.906475   0.976744  0.985650\n",
            "Support Vector Machine with TFIDF             0.936330  0.899281   0.976562  0.984753\n",
            "Random Forest with Count Vectorizer           0.663462  0.496403   1.000000  0.937220\n",
            "Random Forest with TFIDF                      0.650485  0.482014   1.000000  0.935426\n"
          ]
        }
      ]
    },
    {
      "cell_type": "code",
      "source": [
        "# Plotting the result\n",
        "Name = ['RF_vect', 'SVM_vect', 'NB_vect', 'RF_tfidf', 'SVM_tfidf', 'NB_tfidf']\n",
        "f, ax = plt.subplots(1, figsize=(12,5))\n",
        "plt.plot(Name, total_results)\n",
        "plt.legend([\"f1-score\", \"recall\", \"precision\", 'accuracy'], loc =\"lower left\")\n",
        "plt.show()"
      ],
      "metadata": {
        "colab": {
          "base_uri": "https://localhost:8080/",
          "height": 445
        },
        "id": "CaEZWm9yy1CZ",
        "outputId": "674efeee-e7b6-4df0-a5c6-bf6d23abbf41"
      },
      "execution_count": null,
      "outputs": [
        {
          "output_type": "display_data",
          "data": {
            "text/plain": [
              "<Figure size 1200x500 with 1 Axes>"
            ],
            "image/png": "[encoded data removed]"
          },
          "metadata": {}
        }
      ]
    }
  ],
  "metadata": {
    "colab": {
      "provenance": [],
      "collapsed_sections": [
        "nAYsJl0ErXJz"
      ],
      "include_colab_link": true
    },
    "kernelspec": {
      "display_name": "Python 3",
      "name": "python3"
    },
    "language_info": {
      "name": "python"
    }
  },
  "nbformat": 4,
  "nbformat_minor": 0
}